{
 "cells": [
  {
   "cell_type": "code",
   "execution_count": null,
   "metadata": {},
   "outputs": [],
   "source": [
    "#Opgave 1\n",
    "import pandas as pd\n",
    "\n",
    "df = pd.read_csv(\"Cars.csv\")\n",
    "\n",
    "\n",
    "honda_and_fuel = df[(df[\"Identification.Make\"]==\"Honda\") & (df[\"Fuel Information.Fuel Type\"]==\"Gasoline\")]\n",
    "display(honda_and_fuel)\n",
    "honda_and_fuel.shape\n",
    "honda_and_fuel.columns"
   ]
  },
  {
   "cell_type": "code",
   "execution_count": null,
   "metadata": {},
   "outputs": [],
   "source": [
    "#Opgave 2\n",
    "import numpy as np\n",
    "\n",
    "data = pd.read_csv(\"Cars.csv\")\n",
    "honda_and_fuel = honda_and_fuel.set_index(honda_and_fuel[\"Engine Information.Engine Statistics.Horsepower\"])[[\"Fuel Information.Highway mpg\"]].sort_values(\"Engine Information.Engine Statistics.Horsepower\")\n",
    "honda_and_fuel.plot()\n"
   ]
  },
  {
   "cell_type": "code",
   "execution_count": null,
   "metadata": {},
   "outputs": [],
   "source": [
    "#Opgave 3\n",
    "\n",
    "import sklearn.linear_model\n",
    "\n",
    "xs = data['Engine Information.Engine Statistics.Horsepower']\n",
    "ys = data['Fuel Information.Highway mpg']\n",
    "\n",
    "xs_reshape = np.array(xs).reshape(-1, 1)\n",
    "\n",
    "model = sklearn.linear_model.LinearRegression()\n",
    "model.fit(xs_reshape, ys)\n",
    "\n",
    "model.coef_\n"
   ]
  },
  {
   "cell_type": "code",
   "execution_count": null,
   "metadata": {},
   "outputs": [],
   "source": []
  },
  {
   "cell_type": "code",
   "execution_count": null,
   "metadata": {},
   "outputs": [],
   "source": [
    "#Opgave 5\n",
    "\n",
    "predicted = model.predict(xs_reshape)\n",
    "hp200 = model.predict([[200]])\n",
    "print('200 hp vil bruge mpg'.format(hp200[0]))\n",
    "predicted\n"
   ]
  }
 ],
 "metadata": {
  "interpreter": {
   "hash": "767d51c1340bd893661ea55ea3124f6de3c7a262a8b4abca0554b478b1e2ff90"
  },
  "kernelspec": {
   "display_name": "Python 3",
   "language": "python",
   "name": "python3"
  },
  "language_info": {
   "codemirror_mode": {
    "name": "ipython",
    "version": 3
   },
   "file_extension": ".py",
   "mimetype": "text/x-python",
   "name": "python",
   "nbconvert_exporter": "python",
   "pygments_lexer": "ipython3",
   "version": "3.7.6"
  }
 },
 "nbformat": 4,
 "nbformat_minor": 2
}
